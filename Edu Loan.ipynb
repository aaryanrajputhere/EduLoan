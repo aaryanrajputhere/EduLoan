{
 "cells": [
  {
   "cell_type": "code",
   "execution_count": 26,
   "metadata": {},
   "outputs": [
    {
     "name": "stdout",
     "output_type": "stream",
     "text": [
      "Congratulations!! You have a Edu-Loan Score of 4!\n",
      "You are eligible for an Edu-Loan\n"
     ]
    }
   ],
   "source": [
    "\n",
    "university=int(input(\"enter university rank: \"))\n",
    "branch=int(input(\"Enter branch rank: \"))\n",
    "\n",
    "ieltsre=int(input(\"enter IELTS Reading score: \"))\n",
    "ieltswr=int(input(\"enter IELTS Writing score: \"))\n",
    "ieltssp=int(input(\"enter IELTS Speaking score: \"))\n",
    "\n",
    "analytic_reasoning=int(input(\"Enter Analytic Reasoning score in 100 : \"))\n",
    "\n",
    "mechanical_aptitude=int(input(\"Enter Mechanical Apititude score in 100 : \"))\n",
    "\n",
    "spatial_ability=int(input(\"Enter Spatial Ability score in 100 : \"))\n",
    "situational_judgement=int(input(\"Enter Situational Judgement score in 100 : \"))\n",
    "\n",
    "cognitive_ability=int(input(\"Enter cognitive ability score in 100 : \"))\n",
    "\n",
    "analytic_reasoning=int(input(\"Enter Analytic Reasoning score in 100 : \"))\n",
    "\n",
    "coding_level=int(input(\"Enter coding level from (1/2/3): \"))\n",
    "\n",
    "grade10=int(input(\"Enter grade 10 percentage : \"))\n",
    "\n",
    "grade12=int(input(\"Enter grade 12 percentage: \"))\n",
    "\n",
    "student1={}\n",
    "\n",
    "student1[\"university\"]=university\n",
    "student1[\"branch\"]=branch\n",
    "student1[\"ieltssp\"]=ieltssp\n",
    "student1[\"ieltsre\"]=ieltsre\n",
    "student1[\"ieltswr\"]=ieltswr\n",
    "student1[\"analytic_reasoning\"]=analytic_reasoning\n",
    "student1[\"mechanical_aptitude\"]=mechanical_aptitude\n",
    "student1[\"spatial_ability\"]=spatial_ability\n",
    "student1[\"situational_judgement\"]=situational_judgement\n",
    "student1[\"cognitive_ability\"]=cognitive_ability\n",
    "student1[\"coding_level\"]=coding_level\n",
    "student1[\"grade10\"]=grade10\n",
    "student1[\"grade12\"]=grade12\n",
    "\n",
    "\n",
    "\n",
    "\n",
    "if student1[\"university\"]<5 and student1[\"branch\"]<=3 and student1[\"ieltsre\"]>=8 and student1[\"ieltswr\"]>=8 and student1[\"ieltssp\"]>=8 and student1[\"analytic_reasoning\"]>95 and student1[\"mechanical_aptitude\"]>90 and student1[\"spatial_ability\"]>92 and student1[\"situational_judgement\"]>93 and student1[\"cognitive_ability\"]>90 and student1[\"coding_level\"]==1 and student1[\"grade10\"]>=91 and student1[\"grade12\"]>=95:\n",
    "    print(\"Congratulations!! You have a Edu-Loan Score of 10!\")\n",
    "    print(\"You are eligible for an Edu-Loan\")\n",
    "\n",
    "elif student1[\"university\"]<10 and student1[\"branch\"]<=3 and student1[\"ieltsre\"]>=8 and student1[\"ieltswr\"]>=8 and student1[\"ieltssp\"]>=8 and student1[\"analytic_reasoning\"]>90 and student1[\"mechanical_aptitude\"]>87 and student1[\"spatial_ability\"]>90 and student1[\"situational_judgement\"]>90 and student1[\"cognitive_ability\"]>85 and student1[\"coding_level\"]==1 and student1[\"grade10\"]>=90 and student1[\"grade12\"]>=94:\n",
    "    print(\"Congratulations!! You have a Edu-Loan Score of 9!\")\n",
    "    print(\"You are eligible for an Edu-Loan\")\n",
    "\n",
    "elif student1[\"university\"]<10 and student1[\"branch\"]<=4 and student1[\"ieltsre\"]>=8 and student1[\"ieltswr\"]>=7 and student1[\"ieltssp\"]>=8 and student1[\"analytic_reasoning\"]>87 and student1[\"mechanical_aptitude\"]>84 and student1[\"spatial_ability\"]>86 and student1[\"situational_judgement\"]>85 and student1[\"cognitive_ability\"]>85 and student1[\"coding_level\"]<=2 and student1[\"grade10\"]>=87 and student1[\"grade12\"]>=92:\n",
    "    print(\"Congratulations!! You have a Edu-Loan Score of 8!\")\n",
    "    print(\"You are eligible for an Edu-Loan\")\n",
    "\n",
    "elif student1[\"university\"]<15 and student1[\"branch\"]<=5 and student1[\"ieltsre\"]>=7 and student1[\"ieltswr\"]>=7 and student1[\"ieltssp\"]>=7 and student1[\"analytic_reasoning\"]>85 and student1[\"mechanical_aptitude\"]>84 and student1[\"spatial_ability\"]>85 and student1[\"situational_judgement\"]>84 and student1[\"cognitive_ability\"]>84 and student1[\"coding_level\"]<=3 and student1[\"grade10\"]>=85 and student1[\"grade12\"]>=90:\n",
    "    print(\"Congratulations!! You have a Edu-Loan Score of 7!\")\n",
    "    print(\"You are eligible for an Edu-Loan\")\n",
    "\n",
    "elif student1[\"university\"]<20 and student1[\"branch\"]<=8 and student1[\"ieltsre\"]>=7 and student1[\"ieltswr\"]>=7 and student1[\"ieltssp\"]>=7 and student1[\"analytic_reasoning\"]>81 and student1[\"mechanical_aptitude\"]>82 and student1[\"spatial_ability\"]>81 and student1[\"situational_judgement\"]>82 and student1[\"cognitive_ability\"]>82 and student1[\"coding_level\"]<=3 and student1[\"grade10\"]>=83 and student1[\"grade12\"]>=88:\n",
    "    print(\"Congratulations!! You have a Edu-Loan Score of 6!\")\n",
    "    print(\"You are eligible for an Edu-Loan\")\n",
    "\n",
    "elif student1[\"university\"]<25 and student1[\"branch\"]<=9 and student1[\"ieltsre\"]>=7 and student1[\"ieltswr\"]>=7 and student1[\"ieltssp\"]>=7 and student1[\"analytic_reasoning\"]>75 and student1[\"mechanical_aptitude\"]>78 and student1[\"spatial_ability\"]>79 and student1[\"situational_judgement\"]>79 and student1[\"cognitive_ability\"]>80 and student1[\"coding_level\"]<=3 and student1[\"grade10\"]>=80 and student1[\"grade12\"]>=84:\n",
    "    print(\"Congratulations!! You have a Edu-Loan Score of 5!\")\n",
    "    print(\"You are eligible for an Edu-Loan\")\n",
    "\n",
    "elif student1[\"university\"]<30 and student1[\"branch\"]<=12 and student1[\"ieltsre\"]>=6 and student1[\"ieltswr\"]>=6 and student1[\"ieltssp\"]>=6 and student1[\"analytic_reasoning\"]>75 and student1[\"mechanical_aptitude\"]>73 and student1[\"spatial_ability\"]>71 and student1[\"situational_judgement\"]>74 and student1[\"cognitive_ability\"]>73 and student1[\"coding_level\"]<=3 and student1[\"grade10\"]>=75 and student1[\"grade12\"]>=80:\n",
    "    print(\"Congratulations!! You have a Edu-Loan Score of 4!\")\n",
    "    print(\"You are eligible for an Edu-Loan\")\n",
    "\n",
    "else:\n",
    "    print(\"I'm really sorry, we won't be able to offer you a loan :(\")\n",
    "    print(\"But we wish you all the best for your future and am pretty sure you'll do big in life ;) \")\n",
    "    print(\"Always stay happy \")\n"
   ]
  }
 ],
 "metadata": {
  "kernelspec": {
   "display_name": "Python 3.9.6 64-bit",
   "language": "python",
   "name": "python3"
  },
  "language_info": {
   "codemirror_mode": {
    "name": "ipython",
    "version": 3
   },
   "file_extension": ".py",
   "mimetype": "text/x-python",
   "name": "python",
   "nbconvert_exporter": "python",
   "pygments_lexer": "ipython3",
   "version": "3.9.6"
  },
  "orig_nbformat": 4,
  "vscode": {
   "interpreter": {
    "hash": "31f2aee4e71d21fbe5cf8b01ff0e069b9275f58929596ceb00d14d90e3e16cd6"
   }
  }
 },
 "nbformat": 4,
 "nbformat_minor": 2
}
